{
 "cells": [
  {
   "cell_type": "code",
   "execution_count": null,
   "id": "a4f0cb7d-fbe4-489e-8cb1-395492ff1d1a",
   "metadata": {},
   "outputs": [],
   "source": []
  },
  {
   "cell_type": "code",
   "execution_count": 28,
   "id": "7232e4d5-01ae-4bd7-8f50-f0a62c3f3b0e",
   "metadata": {},
   "outputs": [
    {
     "name": "stdout",
     "output_type": "stream",
     "text": [
      "import 실행 완료\n"
     ]
    }
   ],
   "source": [
    "import time\n",
    "import json\n",
    "import pandas as pd\n",
    "import numpy as np\n",
    "import urllib.request\n",
    "import requests\n",
    "from bs4 import BeautifulSoup\n",
    "from selenium  import webdriver\n",
    "from selenium.webdriver.common.by import By\n",
    "from selenium.webdriver.common.keys import Keys\n",
    "\n",
    "print('import 실행 완료')"
   ]
  },
  {
   "cell_type": "code",
   "execution_count": 29,
   "id": "8a125b06-24b3-4870-ab6a-1a2136b40eee",
   "metadata": {},
   "outputs": [
    {
     "name": "stdout",
     "output_type": "stream",
     "text": [
      "검색 함수 실행 완료\n"
     ]
    }
   ],
   "source": [
    "def newsSearch(keyword):\n",
    "    \n",
    "    options = webdriver.ChromeOptions()\n",
    "    options.add_experimental_option(\"excludeSwitches\", [\"enable-logging\"])\n",
    "    driver = webdriver.Chrome(options=options)\n",
    "    url = f\"https://search.naver.com/search.naver?sm=tab_hty.top&where=news&ssc=tab.news.all&query={keyword}&oquery=&tqi=ixNfxdpzL8VssDsUz28ssssssON-294837\"\n",
    "    driver.get(url)\n",
    "    html = driver.page_source\n",
    "    soup = BeautifulSoup(html,'html.parser')\n",
    "    news_tit= soup.select(\".news_tit\")\n",
    "    news_con = soup.select(\".api_txt_lines\")\n",
    "    news_img = soup.select(\".thumb\")\n",
    "\n",
    "    for k in range(5):\n",
    "        cnt_img = 2*k + 1   # thumb가 중복되는 문제 해결 못함. 홀수가 기사 사진으로 홀수만 사용, 짝수는 중복되는 다른 데이터\n",
    "        title = news_tit[k].text\n",
    "        con = news_con[k].text\n",
    "        newsUrl = news_tit[k].attrs['href']\n",
    "        # newsImg = news_img[cnt_img].attrs['data-lazysrc'] \n",
    "        newsImg = news_img[cnt_img].attrs['src'] \n",
    "\n",
    "        print('- '*50)\n",
    "        print('번호: ', k+1)\n",
    "        print('기사 제목 :', title)\n",
    "        print('기사 내용 :', con)\n",
    "        print('url 태그 :', newsUrl)\n",
    "        print('img 태그 :', newsImg)\n",
    "\n",
    "        print('- '*50)\n",
    "\n",
    "    time.sleep(10)\n",
    "    driver.quit()\n",
    "    \n",
    "print('검색 함수 실행 완료')"
   ]
  },
  {
   "cell_type": "code",
   "execution_count": 30,
   "id": "84a5730d-9147-45b3-819d-0a8f2fcb94f7",
   "metadata": {},
   "outputs": [
    {
     "name": "stdout",
     "output_type": "stream",
     "text": [
      "- - - - - - - - - - - - - - - - - - - - - - - - - - - - - - - - - - - - - - - - - - - - - - - - - - \n",
      "번호:  1\n",
      "기사 제목 : 訪韓 우크라이나 장교가 말하는 우크라이나 전황과 드론전쟁 | “적이 ...\n",
      "기사 내용 : 기자는 영관급 장교에 불과하지만 전쟁 중인 우크라이나군의 현역 장교들을 통해 전쟁의 현황, 특히 드론 전쟁을 비롯한 현대 전쟁의 새로운 양상을 알... 열린 대한민국 국제방위산업전시회(KADEX) 2024에서 페트로 야첸코 소령이 대(對)드론 전술에 대해 강연하고 있다. — 일선에서 싸우는 러시아 병력은 어떤...\n",
      "url 태그 : http://monthly.chosun.com/client/news/viw.asp?ctcd=E&nNewsNumb=202411100022\n",
      "img 태그 : https://search.pstatic.net/common/?src=https%3A%2F%2Fimgnews.pstatic.net%2Fimage%2Forigin%2F5481%2F2024%2F10%2F21%2F25088.jpg&type=ofullfill208_208_empty&expire=2&refresh=true\n",
      "- - - - - - - - - - - - - - - - - - - - - - - - - - - - - - - - - - - - - - - - - - - - - - - - - - \n",
      "- - - - - - - - - - - - - - - - - - - - - - - - - - - - - - - - - - - - - - - - - - - - - - - - - - \n",
      "번호:  2\n",
      "기사 제목 : 한국전쟁전후 민간인 희생자 하동지구 합동위령제 봉행\n",
      "기사 내용 : 김창문 회장이 낭독한 경과보고에서 사건배경, 하동지역 항전현황, 하동군에서 발생한 민간희생사건 두가지, 경남 하동 국민보도연맹의 결성... 하승철 하동군수는 추도사를 통해 \"74년이 지나도 풀리지 않는 응어리진 한을 조금이나 달래고자 대한민국을 대신해 반성과 사죄의 심정으로 이 자리에 섰다. 전쟁의...\n",
      "url 태그 : http://www.gndomin.com/news/articleView.html?idxno=410180\n",
      "img 태그 : https://search.pstatic.net/common/?src=https%3A%2F%2Fimgnews.pstatic.net%2Fimage%2Forigin%2F5416%2F2024%2F10%2F20%2F290419.jpg&type=f200_200&expire=2&refresh=true\n",
      "- - - - - - - - - - - - - - - - - - - - - - - - - - - - - - - - - - - - - - - - - - - - - - - - - - \n",
      "- - - - - - - - - - - - - - - - - - - - - - - - - - - - - - - - - - - - - - - - - - - - - - - - - - \n",
      "번호:  3\n",
      "기사 제목 : '경북도 지역경제발전 투자전략 토론회', 경북도 주최 23일 서울 용산 전...\n",
      "기사 내용 : 첨단산업 현황 등 투자환경에 대해 소개한다. 향후 대구경북신공항을 중심으로 한 구미 반도체와 방산, 포항 2차전지, 영주 베어링, 안동 바이오, 경주·영천 모빌리티 부품 등 산업 발전 전략에 대해서 설명할 예정이다. 이남억 본부장은 \"경북은 1970~80년대 구미 국가산업단지와 포항 제철소 등을 통해 대한민국...\n",
      "url 태그 : https://www.imaeil.com/page/view/2024101715495022332\n",
      "img 태그 : https://search.pstatic.net/common/?src=https%3A%2F%2Fimgnews.pstatic.net%2Fimage%2Forigin%2F088%2F2024%2F10%2F20%2F910570.jpg&type=f200_200&expire=2&refresh=true\n",
      "- - - - - - - - - - - - - - - - - - - - - - - - - - - - - - - - - - - - - - - - - - - - - - - - - - \n",
      "- - - - - - - - - - - - - - - - - - - - - - - - - - - - - - - - - - - - - - - - - - - - - - - - - - \n",
      "번호:  4\n",
      "기사 제목 : 대한민국 국방력에 힘 보태자는 로봇인 '국방로봇협의회' 통해 결집\n",
      "기사 내용 : 이스라엘ㆍ하마스 전쟁에 이어 급기야 북한 무인기 이슈 등 그 어느때 보다도 국가 안보의 중요성이 엄중해지는 이때 로봇인들이 '대한민국 국방력 강화... 박 센터장은 국방사회 전체를 최첨단화하고 로봇화를 통해 전력을 10배 향상하자며 국방로봇에 대한 전체적인 현황과 지식을 공유했다. 주제 발표 후...\n",
      "url 태그 : http://www.irobotnews.com/news/articleView.html?idxno=36357\n",
      "img 태그 : https://search.pstatic.net/common/?src=https%3A%2F%2Fimgnews.pstatic.net%2Fimage%2Forigin%2F5430%2F2024%2F10%2F17%2F27600.jpg&type=f200_200&expire=2&refresh=true\n",
      "- - - - - - - - - - - - - - - - - - - - - - - - - - - - - - - - - - - - - - - - - - - - - - - - - - \n",
      "- - - - - - - - - - - - - - - - - - - - - - - - - - - - - - - - - - - - - - - - - - - - - - - - - - \n",
      "번호:  5\n",
      "기사 제목 : 충북, 8년간 2조5천억 들여 ‘수질 오염과 전쟁’…환경단체 “보여주기...\n",
      "기사 내용 : 충주호·대청호 등 모두 757곳의 호소를 앞세워 대한민국 물의 중심을 자처하는 충북도가 ‘수질 오염과 전쟁’을 선포했다. 특별사법경찰 등을 가동해... 보건환경연구원 등은 53개 지점에서 다달이 한 차례 수질 현황을 조사한 뒤 결과를 발표할 계획이다. 풀꿈환경재단·물포럼·지속가능발전협의회 등...\n",
      "url 태그 : https://www.hani.co.kr/arti/area/chungcheong/1161367.html\n",
      "img 태그 : https://search.pstatic.net/common/?src=https%3A%2F%2Fimgnews.pstatic.net%2Fimage%2Forigin%2F028%2F2024%2F10%2F07%2F2710298.jpg&type=f200_200&expire=2&refresh=true\n",
      "- - - - - - - - - - - - - - - - - - - - - - - - - - - - - - - - - - - - - - - - - - - - - - - - - - \n"
     ]
    }
   ],
   "source": [
    "###### main ######\n",
    "\n",
    "# ' '검색어로 뉴스검색함수 호출\n",
    "newsSearch('대한민국 전쟁현황')"
   ]
  }
 ],
 "metadata": {
  "kernelspec": {
   "display_name": "Python 3 (ipykernel)",
   "language": "python",
   "name": "python3"
  },
  "language_info": {
   "codemirror_mode": {
    "name": "ipython",
    "version": 3
   },
   "file_extension": ".py",
   "mimetype": "text/x-python",
   "name": "python",
   "nbconvert_exporter": "python",
   "pygments_lexer": "ipython3",
   "version": "3.12.4"
  }
 },
 "nbformat": 4,
 "nbformat_minor": 5
}
